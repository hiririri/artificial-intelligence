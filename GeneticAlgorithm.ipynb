{
 "cells": [
  {
   "cell_type": "code",
   "execution_count": 1,
   "metadata": {},
   "outputs": [],
   "source": [
    "import random\n",
    "from typing import List, Tuple"
   ]
  },
  {
   "cell_type": "code",
   "execution_count": 2,
   "metadata": {},
   "outputs": [],
   "source": [
    "class GeneticAlgorithm:\n",
    "    def __init__(self, population_size: int, generations: int, mutation_rate: float, items: List[Tuple[int, List[int]]], budgets: List[int]):\n",
    "        self.population_size = population_size\n",
    "        self.generations = generations\n",
    "        self.mutation_rate = mutation_rate\n",
    "        self.items = items\n",
    "        self.budgets = budgets\n",
    "        self.population = self.create_population(population_size, len(items))\n",
    " \n",
    "    def create_population(self, size: int, n_items: int) -> List[List[int]]:\n",
    "        return [[random.randint(0, 1) for _ in range(n_items)] for _ in range(size)]\n",
    " \n",
    "    def fitness(self, chromosome: List[int]) -> int:\n",
    "        total_utility = sum(chromosome[i] * self.items[i][0] for i in range(len(chromosome)))\n",
    "        total_costs = [sum(chromosome[i] * self.items[i][1][j] for i in range(len(chromosome))) for j in range(len(self.budgets))]\n",
    "        for cost, budget in zip(total_costs, self.budgets):\n",
    "            if cost > budget:\n",
    "                return 0  # Penalize if any constraint is violated\n",
    "        return total_utility\n",
    " \n",
    "    def selection(self) -> List[int]:\n",
    "        total_fitness = sum(self.fitness(chromosome) for chromosome in self.population)\n",
    "        probabilities = [self.fitness(chromosome) / total_fitness for chromosome in self.population]\n",
    "        return self.population[random.choices(range(len(self.population)), probabilities)[0]]\n",
    " \n",
    "    def crossover(self, parent1: List[int], parent2: List[int]) -> Tuple[List[int], List[int]]:\n",
    "        point = random.randint(1, len(parent1) - 1)\n",
    "        return parent1[:point] + parent2[point:], parent2[:point] + parent1[point:]\n",
    " \n",
    "    def mutate(self, chromosome: List[int]) -> List[int]:\n",
    "        for i in range(len(chromosome)):\n",
    "            if random.random() < self.mutation_rate:\n",
    "                chromosome[i] = 1 - chromosome[i]\n",
    "        return chromosome\n",
    " \n",
    "    def repair(self, chromosome: List[int]) -> List[int]:\n",
    "        total_costs = [sum(chromosome[i] * self.items[i][1][j] for i in range(len(chromosome))) for j in range(len(self.budgets))]\n",
    "        ordered_items = sorted(range(len(chromosome)), key=lambda x: self.items[x][0], reverse=True)\n",
    "        for i in ordered_items:\n",
    "            if chromosome[i] == 1:\n",
    "                for j in range(len(self.budgets)):\n",
    "                    if total_costs[j] > self.budgets[j]:\n",
    "                        chromosome[i] = 0\n",
    "                        total_costs = [sum(chromosome[i] * self.items[i][1][j] for i in range(len(chromosome))) for j in range(len(self.budgets))]\n",
    "                        break\n",
    "        for i in reversed(ordered_items):\n",
    "            if chromosome[i] == 0:\n",
    "                if all(total_costs[j] + self.items[i][1][j] <= self.budgets[j] for j in range(len(self.budgets))):\n",
    "                    chromosome[i] = 1\n",
    "                    total_costs = [sum(chromosome[i] * self.items[i][1][j] for i in range(len(chromosome))) for j in range(len(self.budgets))]\n",
    "        return chromosome\n",
    " \n",
    "    def run(self) -> Tuple[List[int], int, List[int]]:\n",
    "        for generation in range(self.generations):\n",
    "            new_population = []\n",
    "            for _ in range(self.population_size // 2):\n",
    "                parent1 = self.selection()\n",
    "                parent2 = self.selection()\n",
    "                offspring1, offspring2 = self.crossover(parent1, parent2)\n",
    "                new_population.append(self.repair(self.mutate(offspring1)))\n",
    "                new_population.append(self.repair(self.mutate(offspring2)))\n",
    "            self.population = new_population\n",
    " \n",
    "        best_solution = max(self.population, key=self.fitness)\n",
    "        best_value = self.fitness(best_solution)\n",
    "        best_costs = [sum(best_solution[i] * self.items[i][1][j] for i in range(len(best_solution))) for j in range(len(self.budgets))]\n",
    " \n",
    "        return best_solution, best_value, best_costs"
   ]
  },
  {
   "cell_type": "code",
   "execution_count": 3,
   "metadata": {},
   "outputs": [
    {
     "name": "stdout",
     "output_type": "stream",
     "text": [
      "Best Solution: [1, 1, 0, 0]\n",
      "Total Value: 7\n",
      "Total Costs: [5, 5]\n"
     ]
    }
   ],
   "source": [
    "items = [(3, [2, 3]), (4, [3, 2]), (5, [4, 5]), (8, [5, 6])]\n",
    "budgets = [5, 6]\n",
    "ga = GeneticAlgorithm(10, 100, 0.1, items, budgets)\n",
    "best_solution, best_value, best_costs = ga.run()\n",
    " \n",
    "print(f\"Best Solution: {best_solution}\")\n",
    "print(f\"Total Value: {best_value}\")\n",
    "print(f\"Total Costs: {best_costs}\")"
   ]
  },
  {
   "cell_type": "code",
   "execution_count": null,
   "metadata": {},
   "outputs": [],
   "source": []
  }
 ],
 "metadata": {
  "kernelspec": {
   "display_name": "Python 3",
   "language": "python",
   "name": "python3"
  },
  "language_info": {
   "codemirror_mode": {
    "name": "ipython",
    "version": 3
   },
   "file_extension": ".py",
   "mimetype": "text/x-python",
   "name": "python",
   "nbconvert_exporter": "python",
   "pygments_lexer": "ipython3",
   "version": "3.9.2"
  }
 },
 "nbformat": 4,
 "nbformat_minor": 2
}
