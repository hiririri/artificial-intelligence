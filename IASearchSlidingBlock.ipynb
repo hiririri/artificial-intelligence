{
 "cells": [
  {
   "cell_type": "code",
   "execution_count": null,
   "id": "fa52a197",
   "metadata": {},
   "outputs": [],
   "source": [
    "import nbimporter, random, statistics, time\n",
    "import numpy as np\n",
    "from IASearch import Problem, AStar\n",
    "import jdc"
   ]
  },
  {
   "cell_type": "markdown",
   "id": "08e0ca40",
   "metadata": {},
   "source": [
    "## Un TP taquin\n",
    "\n",
    "Dans ce TP, nous allons tester l'algorithme $A^*$ avec différentes heuristiques sur le problème du taquin.\n",
    "\n",
    "Nous allons représenter un état du taquin comme une matrice de taille $n\\times n$ (avec $n$ un paramètre du problème) dans laquelle les cellules contiennent les symboles '1', '2', $\\ldots$, '$n\\times n - 1$', représentant les tuiles du taquin, et le symbole 'e' représentant l'espace vide.\n",
    "\n",
    "Ainsi, l'état final pour le taquin avec $n=3$ sera donné par la matrice:\n",
    "\n",
    "| | | |\n",
    "|-----|-----|-----|\n",
    "| '1' | '2' | '3' |\n",
    "| '4' | '5' | '6' |\n",
    "| '7' | '8' | 'e' |\n",
    "\n",
    "Commençons par la classe encodant un état de notre problème de recherche."
   ]
  },
  {
   "cell_type": "code",
   "execution_count": null,
   "id": "6d540db2",
   "metadata": {},
   "outputs": [],
   "source": [
    "class SBState():\n",
    "    \n",
    "    def __init__(self,n):\n",
    "        self.n = n\n",
    "        self.mat = np.array([str(i+1) for i in range(n*n-1)]+['e'])\n",
    "        self.mat = np.resize(self.mat,(n,n))\n",
    "        self.final = np.array(self.mat)\n",
    "        self.pos_e = (self.n-1,self.n-1)\n",
    "    \n",
    "    def __str__(self):\n",
    "        return str(self.mat)+\"\\n\\n\"\n",
    "    \n",
    "    def __lt__(self,other):\n",
    "        return str(self.mat) < str(other.mat)\n",
    "    \n",
    "    def __hash__(self):\n",
    "        return hash(str(self.mat))\n",
    "    \n",
    "    def __eq__(self,other):\n",
    "        return np.array_equal(self.mat,other.mat)\n",
    "    \n",
    "    def copy(self):\n",
    "        copy = SBState(self.n)\n",
    "        copy.mat = np.array(self.mat)\n",
    "        copy.pos_e = self.pos_e\n",
    "        return copy\n",
    "\n",
    "    def swap(self, x,y):\n",
    "        tmp = self.mat[x]\n",
    "        self.mat[x] = self.mat[y]\n",
    "        self.mat[y] = tmp\n",
    "    "
   ]
  },
  {
   "cell_type": "markdown",
   "id": "a4251edc",
   "metadata": {},
   "source": [
    "À vous de compléter la classe SBState avec les méthodes suivantes :\n",
    "- actions(self) : retourne l'ensemble des actions possibles dans l'état. C'est un sous-ensemble de $\\{$'U','D','R','L'$\\}$ où 'U' (resp. 'D', 'R', 'L') correspond au fait de faire bouger l'espace vide vers le haut (resp. le bas, la droite, la gauche). \n",
    "- transition(self, action) : retourne le nouvel état obtenu en effectuant 'action' dans l'état courant.\n",
    "- isFinal(self) : retourne True si l'état est final et False sinon.\n",
    "- shuffle(self,t) : sur t itérations, cette méthode effectue une action aléatoire et retourne l'état obtenu après les t modifications."
   ]
  },
  {
   "cell_type": "code",
   "execution_count": null,
   "id": "0611623e",
   "metadata": {},
   "outputs": [],
   "source": [
    "%%add_to SBState\n",
    "def actions(self):\n",
    "    #TODO\n",
    "\n",
    "def transition(self, action):\n",
    "    #TODO\n",
    "\n",
    "def isFinal(self):\n",
    "    #TODO\n",
    "    \n",
    "def shuffle(self,t):\n",
    "    #TODO"
   ]
  },
  {
   "cell_type": "markdown",
   "id": "85a00e25",
   "metadata": {},
   "source": [
    "Voici maintenant la classe correspondant au problème du Taquin. "
   ]
  },
  {
   "cell_type": "code",
   "execution_count": null,
   "id": "53e5bd18",
   "metadata": {},
   "outputs": [],
   "source": [
    "class SlidingBlock(Problem):\n",
    "    \n",
    "    def __init__(self, n, s):\n",
    "        self.n=n\n",
    "        self.p_shuffle = s\n",
    "        self.initial_state = SBState(n).shuffle(self.p_shuffle) \n",
    "    \n",
    "    def actions(self, state):\n",
    "        return state.actions()\n",
    "            \n",
    "    def transition(self, state, action):\n",
    "        return state.transition(action)\n",
    "        \n",
    "    def actionCost(self, state, action):\n",
    "        return 1\n",
    "    \n",
    "    def isFinal(self, state):\n",
    "        return state.isFinal()\n",
    "    \n",
    "    def getInitialState(self):\n",
    "        return self.initial_state"
   ]
  },
  {
   "cell_type": "markdown",
   "id": "b193ba27",
   "metadata": {},
   "source": [
    "Testons désormais l'algorithme UniformCostSearch ($A^*$ sans heuristique) sur notre problème. Changer les paramètres $n$ et $s$ pour voir l'influence sur le temps de la recherche. "
   ]
  },
  {
   "cell_type": "code",
   "execution_count": null,
   "id": "c34cab1b",
   "metadata": {},
   "outputs": [],
   "source": [
    "#un test simple\n",
    "n = 3 \n",
    "s = 7\n",
    "sb = SlidingBlock(n,s)\n",
    "astar = AStar(sb,lambda x:0)\n",
    "print(astar.solve(verbose = True))\n",
    "\n",
    "def evaluate(sb_size,p_shuffle,nb_test,heuristic = lambda x:0):\n",
    "    times = []\n",
    "    nbNodes = []\n",
    "    for i in range(nb_test):\n",
    "        sb = SlidingBlock(sb_size,p_shuffle)\n",
    "        astar = AStar(sb,heuristic)\n",
    "        start = time.time()\n",
    "        astar.solve()\n",
    "        end = time.time()\n",
    "        times.append(end - start)\n",
    "        nbNodes.append(astar.nbNodes)\n",
    "    return statistics.mean(times), statistics.mean(nbNodes)\n",
    "\n",
    "#une mesure de temps\n",
    "print(evaluate(n,s,20))"
   ]
  },
  {
   "cell_type": "markdown",
   "id": "f356572b",
   "metadata": {},
   "source": [
    "Nous allons maintenant améliorer notre algorithme en rajoutant des heuristiques. \n",
    "\n",
    "Coder dans la classe SBState les heuristiques suivantes:\n",
    "- misplaced(self): compte le nombre de tuiles mal placées.\n",
    "- manhattan(self): calcule la somme des distances de Manhattan de chaque tuile à sa position dans l'état final. "
   ]
  },
  {
   "cell_type": "code",
   "execution_count": null,
   "id": "15f462ef",
   "metadata": {},
   "outputs": [],
   "source": [
    "%%add_to SBState      \n",
    "def misplaced(self):\n",
    "    #TODO\n",
    "    \n",
    "def manhattan(self):\n",
    "    #TODO"
   ]
  },
  {
   "cell_type": "code",
   "execution_count": null,
   "id": "52e18370",
   "metadata": {},
   "outputs": [],
   "source": [
    "%%add_to SlidingBlock \n",
    "def misplaced(self, state):\n",
    "    return state.misplaced()\n",
    "    \n",
    "def manhattan(self, state):\n",
    "    return state.manhattan()"
   ]
  },
  {
   "cell_type": "markdown",
   "id": "c0d1b1ec",
   "metadata": {},
   "source": [
    "Testons maintenant l'algorithme $A^*$ avec ces deux heuristiques."
   ]
  },
  {
   "cell_type": "code",
   "execution_count": null,
   "id": "f70548b9",
   "metadata": {},
   "outputs": [],
   "source": [
    "#une mesure de temps\n",
    "print(evaluate(n,s,20, sb.misplaced))\n",
    "print(\"\\n\\n\")\n",
    "print(evaluate(n,s,20, sb.manhattan))"
   ]
  },
  {
   "cell_type": "markdown",
   "id": "746c3a90",
   "metadata": {},
   "source": [
    "Considérons une relaxation du taquin où une tuile peut bouger d'une case $A$ à une case $B$ si $B$ est vide. \n",
    "Le score optimal de cette relaxation définit l'heuristique de Gaschnig.\n",
    "- L'heuristique de Gaschnig est elle admissible ?\n",
    "- Comment peut-on calculer l'heuristique de Gaschnig ?\n",
    "- L'heuristique de Gaschnig domine-t-elle l'heuristique misplaced ?\n",
    "- Trouver un état dans lequel l'heuristique de Gaschnig retourne une valeur strictement plus grande que misplaced et manhattan. \n",
    "Maintenant, il faut la coder."
   ]
  },
  {
   "cell_type": "code",
   "execution_count": null,
   "id": "ca8cd531",
   "metadata": {},
   "outputs": [],
   "source": [
    "%%add_to SBState\n",
    "def gaschnig(self):\n",
    "    #TODO"
   ]
  },
  {
   "cell_type": "code",
   "execution_count": null,
   "id": "3faa751b",
   "metadata": {},
   "outputs": [],
   "source": [
    "%%add_to SlidingBlock         \n",
    "def gaschnig(self, state):\n",
    "    return state.gaschnig()"
   ]
  },
  {
   "cell_type": "markdown",
   "id": "08f4ea19",
   "metadata": {},
   "source": [
    "Évaluons désormais nos trois heuristiques."
   ]
  },
  {
   "cell_type": "code",
   "execution_count": null,
   "id": "f8a978ff",
   "metadata": {},
   "outputs": [],
   "source": [
    "eval_mis = []\n",
    "eval_man = []\n",
    "eval_gas = []\n",
    "ns = range(3,9)\n",
    "for n in ns :\n",
    "    eval_mis.append(evaluate(n,n*3,40, sb.misplaced))\n",
    "    eval_man.append(evaluate(n,n*3,40, sb.manhattan))\n",
    "    eval_gas.append(evaluate(n,n*3,40, sb.gaschnig))\n",
    "\n",
    "import matplotlib.pyplot as plt\n",
    "plt.plot(ns, [x for (x,_) in eval_mis], 'r--', ns, [x for (x,_) in eval_man], 'bs', ns, [x for (x,_) in eval_gas], 'g^')\n",
    "plt.xlabel('size of puzzle')\n",
    "plt.ylabel('Times (s)')\n",
    "plt.show()\n",
    "\n",
    "plt.plot(ns, [x for (_,x) in eval_mis], 'r--', ns, [x for (_,x) in eval_man], 'bs', ns, [x for (_,x) in eval_gas], 'g^')\n",
    "plt.xlabel('size of puzzle')\n",
    "plt.ylabel('#Nodes extended')\n",
    "plt.show()"
   ]
  },
  {
   "cell_type": "markdown",
   "id": "4e47c2cd",
   "metadata": {},
   "source": [
    "On considère un taquin de taille $4 \\times 4$ avec la configuration suivante :\n",
    "\n",
    "| | | | |\n",
    "|-----|-----|-----|-----|\n",
    "| '5' | '10' | '7' | '9' |\n",
    "| '8' | '4' | '6' | '2'|\n",
    "| '1' | '11' | '3' | '13'|\n",
    "| '12' | '14' | '15' | 'e' |\n",
    "\n",
    "On se propose de découper le problème du taquin en quatre sous-problèmes. Le premier consiste à ne s'intéresser qu'aux tuiles 1, 2, 3 et 4. On cherche alors à passer de la configuration représenter à gauche ci-dessous \n",
    "\n",
    "| | | | |\n",
    "|-----|-----|-----|-----|\n",
    "| X | X | X | X |\n",
    "| X | '4' | X | '2'|\n",
    "| '1' | X | '3' | X|\n",
    "| X | X | X | 'e' |\n",
    "\n",
    "à celle-ci sans se soucier des autres tuiles.\n",
    "\n",
    "| | | | |\n",
    "|-----|-----|-----|-----|\n",
    "| '1' | '2' | '3' | '4' |\n",
    "| X | X | X | X |\n",
    "| X | X | X | X |\n",
    "| X | X | X | 'e' |\n",
    "\n",
    "Soit $h_1$ le nombre de pas pour passer de la première configuration à la seconde avec les règles habituelles du taquin  **en ne comptant que les déplacement des pièces numérotées de 1 à 4**. \n",
    "On définit de la même manière les valeurs: \n",
    "- $h_2$ pour les tuiles 5,6,7,8,  \n",
    "- $h_3$ pour les tuiles 9,10,11,12,\n",
    "- et $h_4$ pour les tuiles 13,14,15. \n",
    "\n",
    "Voici quelques questions:\n",
    "- la valeur $h = h_1 + h_2 + h_3 + h 4$ est elle une heuristique admissible (justifiez votre réponse) ? \n",
    "- Si oui, que peut on dire de cette heursitque par rapport à l'heuristique utilisant la distance de Manhattan ?"
   ]
  },
  {
   "cell_type": "code",
   "execution_count": null,
   "id": "f04d726b",
   "metadata": {},
   "outputs": [],
   "source": []
  }
 ],
 "metadata": {
  "kernelspec": {
   "display_name": "Python 3 (ipykernel)",
   "language": "python",
   "name": "python3"
  },
  "language_info": {
   "codemirror_mode": {
    "name": "ipython",
    "version": 3
   },
   "file_extension": ".py",
   "mimetype": "text/x-python",
   "name": "python",
   "nbconvert_exporter": "python",
   "pygments_lexer": "ipython3",
   "version": "3.9.5"
  }
 },
 "nbformat": 4,
 "nbformat_minor": 5
}
