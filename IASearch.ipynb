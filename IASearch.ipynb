{
 "cells": [
  {
   "cell_type": "markdown",
   "id": "d72274f3",
   "metadata": {},
   "source": [
    "# Méthodes de Recherche - cadre deterministe et observable "
   ]
  },
  {
   "cell_type": "markdown",
   "id": "5146bc96",
   "metadata": {},
   "source": [
    "Nous allons, dans ce notebook, implémenter certaines méthodes de recherche dans un cadre déterministe et observable.  \n",
    "\n",
    "Nous avons besoin des import suivants."
   ]
  },
  {
   "cell_type": "code",
   "execution_count": 1,
   "id": "e7771cd2",
   "metadata": {},
   "outputs": [],
   "source": [
    "import sys\n",
    "import numpy as np\n",
    "import frontiers #Module to represent frontiers of different types \n",
    "from abc import ABC, abstractmethod #To represent an abstract class\n",
    "import networkx as nx #To work on graphs\n",
    "from time import sleep"
   ]
  },
  {
   "cell_type": "markdown",
   "id": "755c64d8",
   "metadata": {},
   "source": [
    "## Formalisation d'un problème de recherche"
   ]
  },
  {
   "cell_type": "markdown",
   "id": "5153cf56",
   "metadata": {},
   "source": [
    "Nous allons commencer par formaliser la notion de problème de recherche en utilisant une classe abstraite. Nous pourrons ensuite dériver cette classe pour formaliser les différents problèmes que nous devrons résoudre."
   ]
  },
  {
   "cell_type": "code",
   "execution_count": 2,
   "id": "cff989da",
   "metadata": {},
   "outputs": [],
   "source": [
    "\"\"\"\n",
    "Abstract class to represent a search problem.  \n",
    "@author: Hugo Gilbert\n",
    "\"\"\"\n",
    "class Problem(ABC):\n",
    "    \"\"\"\n",
    "    An astract class to represent a search problem.\n",
    "    \n",
    "    Methods\n",
    "    -------\n",
    "    actions(state)\n",
    "        Yields the set of valid actions\n",
    "    transition(state, action)\n",
    "        The transtion function of the search problem\n",
    "    isFinal(state)\n",
    "        Asserts if a state is final or not\n",
    "    actionCost(state, action)\n",
    "        The cost function of the search problem\n",
    "    getInitialState()\n",
    "        Yields the initial state of the search problem\n",
    "    \"\"\"\n",
    "    \n",
    "    @abstractmethod    \n",
    "    def actions(self, state):\n",
    "        \"\"\" Yields the set of valid actions.\n",
    "        Parameters\n",
    "        ----------\n",
    "        state : State\n",
    "            a given state\n",
    "\n",
    "        Returns\n",
    "        -------\n",
    "        set\n",
    "            a set of chars representing the valid actions in the given state     \n",
    "        \"\"\"\n",
    "\n",
    "        pass\n",
    "    \n",
    "    \n",
    "    @abstractmethod\n",
    "    def transition(self, state, action):\n",
    "        \"\"\" The transtion function of the search problem.\n",
    "        Parameters\n",
    "        ----------\n",
    "        state : State \n",
    "            a given state  \n",
    "        action : char\n",
    "            a valid action in the state\n",
    "\n",
    "        Returns\n",
    "        -------\n",
    "        the state obtained when performing action in state\n",
    "        \"\"\"\n",
    "        \n",
    "        pass\n",
    "    \n",
    "\n",
    "    @abstractmethod\n",
    "    def isFinal(self, state):\n",
    "        \"\"\" Asserts if a state is final or not.\n",
    "\n",
    "        Parameters\n",
    "        ----------\n",
    "        state : State\n",
    "            a given state\n",
    "\n",
    "        Returns\n",
    "        -------\n",
    "        True if the state is final else False\n",
    "\n",
    "        \"\"\"\n",
    "        \n",
    "        pass\n",
    "    \n",
    "    @abstractmethod\n",
    "    def actionCost(self, state, action):\n",
    "        \"\"\" The cost function of the search problem.\n",
    "        Parameters\n",
    "        ----------\n",
    "        state : State \n",
    "            a given state  \n",
    "        action : char\n",
    "            a valid action in the state\n",
    "\n",
    "        Returns\n",
    "        -------\n",
    "        the cost (a positive integer) incurred when performing action in state\n",
    "        \"\"\"\n",
    "        \n",
    "        pass\n",
    "    \n",
    "    @abstractmethod\n",
    "    def getInitialState(self):\n",
    "        \"\"\" Yields the initial state of the search problem.\n",
    "        Returns\n",
    "        -------\n",
    "        the initial state of the search problem\n",
    "        \"\"\"\n",
    "        \n",
    "        pass        "
   ]
  },
  {
   "cell_type": "markdown",
   "id": "ee22e370",
   "metadata": {},
   "source": [
    "Dérivons cette classe pour représenter le problème de recherche classique de navigation en Roumanie. Nous allons pour cela représenter le réseau routier entre les différentes villes de Roumanie. \n",
    "\n",
    "C'est un exemple très *particulier* car dans la plupart des cas nous ne pourrons pas représenter explicitement le graphe de l'espace d'état."
   ]
  },
  {
   "cell_type": "code",
   "execution_count": 3,
   "id": "d63a3bc3",
   "metadata": {},
   "outputs": [],
   "source": [
    "class Romania(Problem):\n",
    "    \"\"\"\n",
    "    A class to represent the classic navigation in \n",
    "    Romania search problem from [1].\n",
    "    \n",
    "    [1] Norvig, P. and Russel, S., Artificial Intelligence. A modern approach. \n",
    "    \n",
    "    Methods\n",
    "    -------\n",
    "    actions(state)\n",
    "        Yields the set of valid actions\n",
    "    transition(state, action)\n",
    "        The transtion function of the search problem\n",
    "    isFinal(state)\n",
    "        Asserts if a state is final or not\n",
    "    actionCost(state, action)\n",
    "        The cost function of the search problem\n",
    "    getInitialState()\n",
    "        Yields the initial state of the search problem\n",
    "    \"\"\"\n",
    "    #We will here use the graph representing this problem\n",
    "    #This is a very specific example, and somewhat misleading \n",
    "    #example in the sense that most of the time we cannot\n",
    "    #explicitly represent the state space graph.\n",
    "    G = nx.Graph()\n",
    "    G.add_nodes_from(['A','B','C','D',\\\n",
    "                  'E','F','G','H',\\\n",
    "                  'I','L','M','N',\\\n",
    "                  'O','P','R','S',\\\n",
    "                  'T','U','V','Z'])\n",
    "\n",
    "    G.add_weighted_edges_from([('A','T',118), ('A','S',140), ('A','Z',75), ('Z','O',71), ('O','S',151),\\\n",
    "                           ('T','L',111), ('L','M',70), ('M','D',75), ('D','C',120), ('S','F',99),\\\n",
    "                           ('S','R',80), ('R','C',146), ('R','P',97), ('C','P',138), ('P','B',101),\\\n",
    "                           ('F','B',211), ('B','G',90), ('B','U',85), ('U','H',98), ('H','E',86),\\\n",
    "                           ('U','V',142), ('V','I',92), ('I','N',87)])"
   ]
  },
  {
   "cell_type": "markdown",
   "id": "512d389e",
   "metadata": {},
   "source": [
    "Les états vont ici correspondre aux différentes villes identifiées chacune par un char, la première lettre de la ville. Quant aux actions, nous assimilerons l'action ''se rendre au sommet v'' avec le sommet v lui même. \n",
    "\n",
    "Nous allons maintenir redéfinir les méthodes une à une pour spécifier notre problème de recherche. Ces méthodes sont assez triviales:\n",
    "- la méthode spécifiant les différentes actions possibles à partir d'un sommet retourne les voisins du sommet.\n",
    "- la méthode de transition retourne l'action car elle est ici confondue avec le sommet vers lequel on se rend.\n",
    "- la méthode testant si un état est final est un simple test vérifiant si le sommet correspond à Budapest.\n",
    "- Le coût d'une action correspond au poids de l'arête correpondante. \n",
    "- la méthode retournant l'état de départ retourne le sommet correspondant à Arad."
   ]
  },
  {
   "cell_type": "code",
   "execution_count": 4,
   "id": "882071ce",
   "metadata": {},
   "outputs": [],
   "source": [
    "class Romania(Romania):\n",
    "    \n",
    "    def actions(self, state):\n",
    "        \"\"\" Yields the set of valid actions.\n",
    "        Parameters\n",
    "        ----------\n",
    "        state : State\n",
    "            a given state\n",
    "\n",
    "        Returns\n",
    "        -------\n",
    "        set\n",
    "            a set of chars representing the valid actions in the given state     \n",
    "        \"\"\"\n",
    "\n",
    "        return Romania.G.neighbors(state)\n",
    "    \n",
    "    \n",
    "    def transition(self, state, action):\n",
    "        \"\"\" The transtion function of the search problem.\n",
    "        Parameters\n",
    "        ----------\n",
    "        state : State \n",
    "            a given state  \n",
    "        action : char\n",
    "            a valid action in the state\n",
    "\n",
    "        Returns\n",
    "        -------\n",
    "        the state obtained when performing action in state\n",
    "        \"\"\"\n",
    "        return action\n",
    "        \n",
    "    def isFinal(self, state):\n",
    "        \"\"\" Asserts if a state is final or not.\n",
    "\n",
    "        Parameters\n",
    "        ----------\n",
    "        state : State\n",
    "            a given state\n",
    "\n",
    "        Returns\n",
    "        -------\n",
    "        True if the state is final else False\n",
    "\n",
    "        \"\"\"\n",
    "        return state == 'B'\n",
    "    \n",
    "    def actionCost(self, state, action):\n",
    "        \"\"\" The cost function of the search problem.\n",
    "        Parameters\n",
    "        ----------\n",
    "        state : State \n",
    "            a given state  \n",
    "        action : char\n",
    "            a valid action in the state\n",
    "\n",
    "        Returns\n",
    "        -------\n",
    "        the cost (a positive integer) incurred when performing action in state\n",
    "        \"\"\"\n",
    "        \n",
    "        return Romania.G.edges[state, action]['weight']\n",
    "    \n",
    "    def getInitialState(self):\n",
    "        \"\"\" Yields the initial state of the search problem.\n",
    "        Returns\n",
    "        -------\n",
    "        the initial state of the search problem\n",
    "        \"\"\"\n",
    "        return 'A'\n",
    "                "
   ]
  },
  {
   "cell_type": "markdown",
   "id": "e9df321c",
   "metadata": {},
   "source": [
    "## Formalisation d'un l'arbre de recherche"
   ]
  },
  {
   "cell_type": "markdown",
   "id": "666a3d24",
   "metadata": {},
   "source": [
    "Nous allons désormais définir le nœud d'un arbre de recherche qui doit contenir un état mais aussi des informations sur le nœud de recherche parent et le coût du chemin de l'état initial jusqu'à lui. "
   ]
  },
  {
   "cell_type": "code",
   "execution_count": 5,
   "id": "78b7bf94",
   "metadata": {},
   "outputs": [],
   "source": [
    "class Node:\n",
    "    \"\"\"\n",
    "    A class to define a node in the search tree. \n",
    "    \n",
    "    Attributes\n",
    "    ----------\n",
    "    state : State\n",
    "        A state of the search problem\n",
    "    problem : Problem\n",
    "        The search problem to be solved\n",
    "    fatherNode : Node\n",
    "        The father node in the search tree\n",
    "    actionFromFather : char\n",
    "        The action that led to this new node from the father node\n",
    "    pathCost : int\n",
    "        The cost of the path from the root to this node in the search tree\n",
    "        \n",
    "    Methods\n",
    "    -------\n",
    "    expand()\n",
    "        Method to expand the node\n",
    "    getSolution()\n",
    "        Method to obtain the list of actions from the root to a terminal node \n",
    "        \n",
    "    \"\"\"\n",
    "    def __init__(self, problem, state, fatherNode, actionFromFather):\n",
    "        \"\"\"\n",
    "        Parameters\n",
    "        ----------\n",
    "        problem : Problem\n",
    "            The search problem to be solved\n",
    "        state : State\n",
    "            A state of the search problem\n",
    "        fatherNode : Node\n",
    "            The father node in the search tree\n",
    "        actionFromFather : char\n",
    "            The action that led to this new node from the father node\n",
    "        \"\"\"\n",
    "        self.state = state\n",
    "        self.problem = problem \n",
    "        self.fatherNode = fatherNode\n",
    "        self.actionFromFather = actionFromFather\n",
    "        self.pathCost = 0\n",
    "        if(fatherNode):\n",
    "            self.pathCost = fatherNode.pathCost + problem.actionCost(fatherNode.state, actionFromFather) \n",
    "    \n",
    "    def __str__(self):\n",
    "        return str(self.state)\n",
    "    \n",
    "    def __lt__(self,other):\n",
    "        return self.state < other.state"
   ]
  },
  {
   "cell_type": "markdown",
   "id": "d6abd291",
   "metadata": {},
   "source": [
    "Définissons maintenant la méthode permettant d'étendre un nœud, pour produire les nœuds fils."
   ]
  },
  {
   "cell_type": "code",
   "execution_count": 6,
   "id": "331cf5b9",
   "metadata": {},
   "outputs": [],
   "source": [
    "class Node(Node):\n",
    "    def expand(self):\n",
    "        \"\"\" Method to expand the node. \n",
    "        Returns\n",
    "        -------\n",
    "        res : list\n",
    "            The list of succesor nodes obtained from expanding the current node.\n",
    "        \"\"\"\n",
    "        res = []\n",
    "        for action in self.problem.actions(self.state):\n",
    "            nextState = self.problem.transition(self.state,action)\n",
    "            res.append(Node(self.problem, nextState, self, action))\n",
    "        return res"
   ]
  },
  {
   "cell_type": "markdown",
   "id": "88927200",
   "metadata": {},
   "source": [
    "Enfin, une fois la solution jusqu'au nœud terminal trouvé, il faut remonter l'arbre de recherche afin de pouvoir renvoyer l'ensemble du chemin de l'état initial jusqu'à l'état final."
   ]
  },
  {
   "cell_type": "code",
   "execution_count": 7,
   "id": "8e298e80",
   "metadata": {},
   "outputs": [],
   "source": [
    "class Node(Node):\n",
    "    def getSolution(self):\n",
    "        \"\"\" Method to obtain the list of actions from the root to a terminal node. \n",
    "        \n",
    "        Returns\n",
    "        -------\n",
    "        res : []\n",
    "            List of actions from the root to the terminal node.\n",
    "        \"\"\"\n",
    "        res = []\n",
    "        node = self\n",
    "        while(node.fatherNode):\n",
    "            res.append(node.actionFromFather)\n",
    "            node = node.fatherNode\n",
    "        res.reverse()\n",
    "        return res"
   ]
  },
  {
   "cell_type": "markdown",
   "id": "4aed1878",
   "metadata": {},
   "source": [
    "## Méthode de recherche en largeur"
   ]
  },
  {
   "cell_type": "markdown",
   "id": "29fc82e1",
   "metadata": {},
   "source": [
    "Nous allons désormais implémenter et tester l'algorithme de recherche par parcours en largeur. Cet algorithme est de type graph-search, i.e., il utilise une frontière et un ensemble des nœuds explorés. La frontière est de type FIFO."
   ]
  },
  {
   "cell_type": "code",
   "execution_count": 8,
   "id": "df0ee656",
   "metadata": {},
   "outputs": [],
   "source": [
    "class BreadthFirst:\n",
    "    \"\"\" Class for the breadth first search algorithm.\n",
    "    This is a graph-search type algorithm with a FIFO-type frontier.\n",
    "    \"\"\"\n",
    "    \n",
    "    def __init__(self, problem):\n",
    "        \"\"\"\n",
    "        Parameters\n",
    "        ----------\n",
    "        problem : Problem\n",
    "            The search problem to be solved.\n",
    "        \"\"\"\n",
    "        self.problem = problem\n",
    "        \n",
    "    def solve(self):\n",
    "        \"\"\"\n",
    "        runs the BreadthFirst algorithm\n",
    "        \"\"\"\n",
    "        node = Node(self.problem, self.problem.getInitialState(), None, None)\n",
    "        if(self.problem.isFinal(node)):\n",
    "                return node.getSolution()\n",
    "        self.exploredSet = set()\n",
    "        self.frontier = frontiers.FrontierFIFO()\n",
    "        self.frontier.push(node)\n",
    "        while(True): \n",
    "            if(self.frontier.isEmpty()):\n",
    "                raise Exception('problem cannot be solved')\n",
    "            print(self.frontier)\n",
    "            sleep(1)\n",
    "            print(\"-------\\n\")\n",
    "            node = self.frontier.pop() \n",
    "            self.exploredSet.add(node.state)\n",
    "            for succ_node in node.expand():\n",
    "                if succ_node.state in self.exploredSet:\n",
    "                    continue\n",
    "                if(self.problem.isFinal(succ_node.state)):\n",
    "                    return succ_node.getSolution()\n",
    "                self.frontier.push(succ_node)"
   ]
  },
  {
   "cell_type": "markdown",
   "id": "8d10ff5f",
   "metadata": {},
   "source": [
    "Testons désormais notre méthode sur notre problème de navigation en Roumanie."
   ]
  },
  {
   "cell_type": "code",
   "execution_count": 9,
   "id": "8dd332aa",
   "metadata": {},
   "outputs": [
    {
     "name": "stdout",
     "output_type": "stream",
     "text": [
      "A\n"
     ]
    },
    {
     "name": "stdout",
     "output_type": "stream",
     "text": [
      "-------\n",
      "\n",
      "Z S T\n",
      "-------\n",
      "\n",
      "L Z S\n",
      "-------\n",
      "\n",
      "R F O L Z\n",
      "-------\n",
      "\n",
      "R F O L\n",
      "-------\n",
      "\n",
      "M R F O\n",
      "-------\n",
      "\n",
      "M R F\n",
      "-------\n",
      "\n",
      "['S', 'F', 'B']\n"
     ]
    }
   ],
   "source": [
    "romania = Romania()\n",
    "bf = BreadthFirst(romania)\n",
    "print(bf.solve())"
   ]
  },
  {
   "cell_type": "markdown",
   "id": "51822d19",
   "metadata": {},
   "source": [
    "## Méthode de recherche en profondeur"
   ]
  },
  {
   "cell_type": "markdown",
   "id": "f90c1c68",
   "metadata": {},
   "source": [
    "Nous allons désormais implémenter et tester l'algorithme de recherche par parcours en profondeur. Cet algorithme est de type *tree-search*, i.e., il n'utilise pas un ensemble des nœuds explorés. La frontière est de type LIFO. \n",
    "\n",
    "Pour éviter que notre algorithme ne génère des boucles infinies, nous allons implémenter une méthode permettant de voir si un nœud a déjà été vu sur le chemin actuellement parcouru. "
   ]
  },
  {
   "cell_type": "code",
   "execution_count": 10,
   "id": "12ebb657",
   "metadata": {},
   "outputs": [],
   "source": [
    "class Node(Node):\n",
    "    def generate_loop(self):\n",
    "        node = self\n",
    "        while(node.fatherNode):\n",
    "            other = node.fatherNode\n",
    "            if(self.state == other.state):\n",
    "                return True\n",
    "            node = other\n",
    "        return False"
   ]
  },
  {
   "cell_type": "code",
   "execution_count": 11,
   "id": "e6852ce6",
   "metadata": {},
   "outputs": [],
   "source": [
    "class DepthFirst:\n",
    "    \"\"\" Class for the Depth First Search Algorithm.\n",
    "    \"\"\"\n",
    "    \n",
    "    def __init__(self, problem):\n",
    "        \"\"\"\n",
    "        Parameters\n",
    "        ----------\n",
    "        problem : Problem\n",
    "            The search problem to be solved.\n",
    "        \"\"\"\n",
    "        self.problem = problem\n",
    "        \n",
    "    def solve(self):\n",
    "        \"\"\"\n",
    "        runs the depth-first search algorithm\n",
    "        \"\"\"\n",
    "        node = Node(self.problem, self.problem.getInitialState(), None, None)\n",
    "        if(self.problem.isFinal(node)):\n",
    "            return node.getSolution()\n",
    "        self.frontier = frontiers.FrontierLIFO()\n",
    "        self.frontier.push(node)\n",
    "        while(True): \n",
    "            if(self.frontier.isEmpty()):\n",
    "                raise Exception('problem cannot be solved')\n",
    "            print(self.frontier)\n",
    "            sleep(1)\n",
    "            print(\"-------\\n\")\n",
    "            node = self.frontier.pop() \n",
    "            for succ_node in node.expand():\n",
    "                if succ_node.generate_loop():\n",
    "                    continue\n",
    "                if(self.problem.isFinal(succ_node.state)):\n",
    "                    return succ_node.getSolution()\n",
    "                self.frontier.push(succ_node)"
   ]
  },
  {
   "cell_type": "markdown",
   "id": "daf0a239",
   "metadata": {},
   "source": [
    "Testons désormais notre méthode sur notre problème de navigation en Roumanie."
   ]
  },
  {
   "cell_type": "code",
   "execution_count": 12,
   "id": "7b66e594",
   "metadata": {},
   "outputs": [
    {
     "name": "stdout",
     "output_type": "stream",
     "text": [
      "A\n"
     ]
    },
    {
     "name": "stdout",
     "output_type": "stream",
     "text": [
      "-------\n",
      "\n",
      "T S Z\n",
      "-------\n",
      "\n",
      "T S O\n",
      "-------\n",
      "\n",
      "T S S\n",
      "-------\n",
      "\n",
      "T S F R\n",
      "-------\n",
      "\n",
      "T S F C P\n",
      "-------\n",
      "\n",
      "['Z', 'O', 'S', 'R', 'P', 'B']\n"
     ]
    }
   ],
   "source": [
    "df = DepthFirst(romania)\n",
    "print(df.solve())"
   ]
  },
  {
   "cell_type": "markdown",
   "id": "c4b70429",
   "metadata": {},
   "source": [
    "## Méthode de recherche A*"
   ]
  },
  {
   "cell_type": "markdown",
   "id": "ef6fd55a",
   "metadata": {},
   "source": [
    "Pour terminer sur la méthode A*, nous devons rajouter une heuristique à notre problème de navigation, par exemple la distance à vol d'oiseau entre deux villes."
   ]
  },
  {
   "cell_type": "code",
   "execution_count": 13,
   "id": "c6b9bd23",
   "metadata": {},
   "outputs": [],
   "source": [
    "class Romania(Romania):\n",
    "    st_line = {'A':366,'B':0,'C':160,'D': 242, 'E':161,\\\n",
    "              'F':176, 'G':77, 'H':151, 'I': 226, 'L':244,\\\n",
    "              'M':241,'N':234,'O':380, 'P':100, 'R':193,\\\n",
    "              'S':253,'T':329,'U':80,'V':199,'Z':374}\n",
    "    \n",
    "    def heuristic(self, state):\n",
    "        \"\"\"returns a value estimating (lower bound) the distance \n",
    "        between the current city and Budapest using the straight-line distance.\n",
    "        \n",
    "        Returns\n",
    "        -------\n",
    "        int \n",
    "            straight-line distance between the city corresponding to the state and Budapest\n",
    "        \"\"\"\n",
    "        return Romania.st_line[state]"
   ]
  },
  {
   "cell_type": "markdown",
   "id": "84759f4d",
   "metadata": {},
   "source": [
    "Nous allons désormais implémenter et tester l'algorithme de recherche A*. Cet algorithme est de type graph-search, i.e., il utilise une frontière et un ensemble des nœuds explorés. La frontière est une file de priorité, avec une priorité correspondant à la somme du coût du nœud et de sa valeur heuristique."
   ]
  },
  {
   "cell_type": "code",
   "execution_count": 14,
   "id": "523a88b0",
   "metadata": {},
   "outputs": [],
   "source": [
    "class AStar:\n",
    "    \"\"\" Class for the AStar Algorithm.\n",
    "    \"\"\"\n",
    "    \n",
    "    def __init__(self, problem, heuristic):\n",
    "        \"\"\"\n",
    "        Parameters\n",
    "        ----------\n",
    "        problem : Problem\n",
    "            The search problem to be solved.\n",
    "        heuristic : function\n",
    "            The heuristic function to guide the search.\n",
    "        \"\"\"\n",
    "        self.problem = problem\n",
    "        self.heuristic = heuristic\n",
    "    \n",
    "    def solve(self):\n",
    "        \"\"\"\n",
    "        runs the AStar algorithm\n",
    "        \"\"\"\n",
    "        self.exploredSet = set()\n",
    "        self.frontier = frontiers.Frontier()\n",
    "        self.frontier.push(self.heuristic(self.problem.getInitialState()),Node(self.problem, self.problem.getInitialState(), None, None))\n",
    "        while(True): \n",
    "            if(self.frontier.isEmpty()):\n",
    "                raise Exception('problem cannot be solved')\n",
    "            print(self.frontier)\n",
    "            sleep(1)\n",
    "            print(\"-------\\n\")\n",
    "            (score, node) = self.frontier.pop() \n",
    "            if(self.problem.isFinal(node.state)):\n",
    "                return node.getSolution()\n",
    "            self.exploredSet.add(node.state)\n",
    "            for succ_node in node.expand():\n",
    "                if succ_node.state in self.exploredSet:\n",
    "                    continue\n",
    "                self.frontier.push(succ_node.pathCost + self.heuristic(succ_node.state), succ_node)"
   ]
  },
  {
   "cell_type": "markdown",
   "id": "c5a2ef2f",
   "metadata": {},
   "source": [
    "Testons désormais l'algorithme A*."
   ]
  },
  {
   "cell_type": "code",
   "execution_count": 15,
   "id": "ca4ccecd",
   "metadata": {},
   "outputs": [
    {
     "name": "stdout",
     "output_type": "stream",
     "text": [
      "366A\n"
     ]
    },
    {
     "name": "stdout",
     "output_type": "stream",
     "text": [
      "-------\n",
      "\n",
      "393S 447T 449Z\n",
      "-------\n",
      "\n",
      "413R 415F 671O 449Z 447T\n",
      "-------\n",
      "\n",
      "415F 447T 417P 449Z 526C 671O\n",
      "-------\n",
      "\n",
      "417P 447T 450B 449Z 526C 671O\n",
      "-------\n",
      "\n",
      "418B 447T 671O 526C 449Z\n",
      "-------\n",
      "\n",
      "['S', 'R', 'P', 'B']\n"
     ]
    }
   ],
   "source": [
    "romania = Romania()\n",
    "astar = AStar(romania,romania.heuristic)\n",
    "    \n",
    "print(astar.solve())"
   ]
  },
  {
   "cell_type": "code",
   "execution_count": null,
   "id": "044ba388",
   "metadata": {},
   "outputs": [],
   "source": []
  }
 ],
 "metadata": {
  "kernelspec": {
   "display_name": "Python 3 (ipykernel)",
   "language": "python",
   "name": "python3"
  },
  "language_info": {
   "codemirror_mode": {
    "name": "ipython",
    "version": 3
   },
   "file_extension": ".py",
   "mimetype": "text/x-python",
   "name": "python",
   "nbconvert_exporter": "python",
   "pygments_lexer": "ipython3",
   "version": "3.9.2"
  }
 },
 "nbformat": 4,
 "nbformat_minor": 5
}
